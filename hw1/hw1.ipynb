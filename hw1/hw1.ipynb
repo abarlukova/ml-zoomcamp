{
 "cells": [
  {
   "cell_type": "code",
   "execution_count": 1,
   "id": "40a78143-d8c0-4ea0-bebd-9aa5155926d8",
   "metadata": {},
   "outputs": [
    {
     "name": "stdout",
     "output_type": "stream",
     "text": [
      "Python 3.11.9\n"
     ]
    }
   ],
   "source": [
    "!python --version"
   ]
  },
  {
   "cell_type": "code",
   "execution_count": 3,
   "id": "54209887-a8f2-4fba-be65-a1a259f0f14e",
   "metadata": {},
   "outputs": [],
   "source": [
    "import pandas as pd"
   ]
  },
  {
   "cell_type": "markdown",
   "id": "3925a997-efbb-45a5-9139-5b8b7934b4b8",
   "metadata": {},
   "source": [
    "### Question 1"
   ]
  },
  {
   "cell_type": "code",
   "execution_count": 4,
   "id": "70db78d2-2a4c-4b3c-b9ff-4a97efaef5be",
   "metadata": {},
   "outputs": [
    {
     "data": {
      "text/plain": [
       "'2.2.2'"
      ]
     },
     "execution_count": 4,
     "metadata": {},
     "output_type": "execute_result"
    }
   ],
   "source": [
    "pd.__version__"
   ]
  },
  {
   "cell_type": "code",
   "execution_count": 7,
   "id": "25265a11-6d9e-45c5-b76b-11ee7a60c8eb",
   "metadata": {},
   "outputs": [
    {
     "name": "stdout",
     "output_type": "stream",
     "text": [
      "Collecting wget\n",
      "  Using cached wget-3.2-py3-none-any.whl\n",
      "Installing collected packages: wget\n",
      "Successfully installed wget-3.2\n"
     ]
    }
   ],
   "source": [
    "!pip install wget"
   ]
  },
  {
   "cell_type": "code",
   "execution_count": 8,
   "id": "234b5290-3d7c-484b-a280-1bf760dd25ec",
   "metadata": {},
   "outputs": [],
   "source": [
    "import wget"
   ]
  },
  {
   "cell_type": "code",
   "execution_count": 10,
   "id": "e2690b81-c0fd-42f1-b732-8b66cf31208b",
   "metadata": {},
   "outputs": [
    {
     "name": "stdout",
     "output_type": "stream",
     "text": [
      "100% [............................................................................] 298573 / 298573"
     ]
    },
    {
     "data": {
      "text/plain": [
       "'laptops.csv'"
      ]
     },
     "execution_count": 10,
     "metadata": {},
     "output_type": "execute_result"
    }
   ],
   "source": [
    "url = 'https://raw.githubusercontent.com/alexeygrigorev/datasets/master/laptops.csv'\n",
    "wget.download(url, 'laptops.csv')"
   ]
  },
  {
   "cell_type": "code",
   "execution_count": 13,
   "id": "acaa9810-a8e8-4365-92e4-6e9a5850ec69",
   "metadata": {},
   "outputs": [],
   "source": [
    "df_laptops = pd.read_csv(\"laptops.csv\")"
   ]
  },
  {
   "cell_type": "markdown",
   "id": "6c05709c-376e-4a1c-a6e9-a63dbd940251",
   "metadata": {},
   "source": [
    "### Question 2"
   ]
  },
  {
   "cell_type": "code",
   "execution_count": 69,
   "id": "a26716cf-a654-4520-a642-e9a8e661b087",
   "metadata": {},
   "outputs": [
    {
     "data": {
      "text/plain": [
       "2160"
      ]
     },
     "execution_count": 69,
     "metadata": {},
     "output_type": "execute_result"
    }
   ],
   "source": [
    "len(df_laptops)"
   ]
  },
  {
   "cell_type": "markdown",
   "id": "218d32bd-3733-4eaf-bf76-f2363424af8d",
   "metadata": {},
   "source": [
    "### Question 3"
   ]
  },
  {
   "cell_type": "code",
   "execution_count": 47,
   "id": "4c4c73f7-6173-49c4-a857-c0026d138b68",
   "metadata": {},
   "outputs": [
    {
     "data": {
      "text/plain": [
       "array(['Asus', 'Alurin', 'MSI', 'HP', 'Lenovo', 'Medion', 'Acer', 'Apple',\n",
       "       'Razer', 'Gigabyte', 'Dell', 'LG', 'Samsung', 'PcCom', 'Microsoft',\n",
       "       'Primux', 'Prixton', 'Dynabook Toshiba', 'Thomson', 'Denver',\n",
       "       'Deep Gaming', 'Vant', 'Innjoo', 'Jetwing', 'Millenium', 'Realme',\n",
       "       'Toshiba'], dtype=object)"
      ]
     },
     "execution_count": 47,
     "metadata": {},
     "output_type": "execute_result"
    }
   ],
   "source": [
    "df_laptops.Brand.unique()"
   ]
  },
  {
   "cell_type": "code",
   "execution_count": 27,
   "id": "5b40ccd9-f0e3-499e-b504-9f001afa0a97",
   "metadata": {},
   "outputs": [
    {
     "data": {
      "text/plain": [
       "27"
      ]
     },
     "execution_count": 27,
     "metadata": {},
     "output_type": "execute_result"
    }
   ],
   "source": [
    "df_laptops.Brand.nunique()"
   ]
  },
  {
   "cell_type": "markdown",
   "id": "5de2ba7a-66c5-4d1b-9a15-8445e5c17e8a",
   "metadata": {},
   "source": [
    "### Question 4"
   ]
  },
  {
   "cell_type": "code",
   "execution_count": 28,
   "id": "ed1033f8-d6d8-4c8f-b18d-0b8a2b822e91",
   "metadata": {},
   "outputs": [
    {
     "data": {
      "text/plain": [
       "Laptop             0\n",
       "Status             0\n",
       "Brand              0\n",
       "Model              0\n",
       "CPU                0\n",
       "RAM                0\n",
       "Storage            0\n",
       "Storage type      42\n",
       "GPU             1371\n",
       "Screen             4\n",
       "Touch              0\n",
       "Final Price        0\n",
       "dtype: int64"
      ]
     },
     "execution_count": 28,
     "metadata": {},
     "output_type": "execute_result"
    }
   ],
   "source": [
    "df_laptops.isnull().sum()"
   ]
  },
  {
   "cell_type": "markdown",
   "id": "d53eb7eb-6ed3-4f93-8659-6ea49b4d69b8",
   "metadata": {},
   "source": [
    "### Question 5"
   ]
  },
  {
   "cell_type": "code",
   "execution_count": 30,
   "id": "0bcd6ed7-3f8f-48b7-accc-abfbefdc4452",
   "metadata": {},
   "outputs": [
    {
     "data": {
      "text/plain": [
       "3936.0"
      ]
     },
     "execution_count": 30,
     "metadata": {},
     "output_type": "execute_result"
    }
   ],
   "source": [
    "df_laptops.groupby(\"Brand\")[\"Final Price\"].max()[\"Dell\"]"
   ]
  },
  {
   "cell_type": "markdown",
   "id": "5aa2697e-e5dd-4b39-a0e5-64bebf03deca",
   "metadata": {},
   "source": [
    "### Question 6"
   ]
  },
  {
   "cell_type": "code",
   "execution_count": 33,
   "id": "0bbe2504-70c9-48b8-b290-3af1e6596d4e",
   "metadata": {},
   "outputs": [
    {
     "data": {
      "text/plain": [
       "count    2156.000000\n",
       "mean       15.168112\n",
       "std         1.203329\n",
       "min        10.100000\n",
       "25%        14.000000\n",
       "50%        15.600000\n",
       "75%        15.600000\n",
       "max        18.000000\n",
       "Name: Screen, dtype: float64"
      ]
     },
     "execution_count": 33,
     "metadata": {},
     "output_type": "execute_result"
    }
   ],
   "source": [
    "df_laptops[\"Screen\"].describe()"
   ]
  },
  {
   "cell_type": "code",
   "execution_count": 40,
   "id": "5905d25c-e266-49c2-8b81-ab209fa20479",
   "metadata": {},
   "outputs": [],
   "source": [
    "mode = df_laptops[\"Screen\"].mode()"
   ]
  },
  {
   "cell_type": "code",
   "execution_count": 42,
   "id": "95f4ccfe-4636-40b5-8d48-5952c58d3365",
   "metadata": {},
   "outputs": [
    {
     "data": {
      "text/plain": [
       "15.6"
      ]
     },
     "execution_count": 42,
     "metadata": {},
     "output_type": "execute_result"
    }
   ],
   "source": [
    "mode[0]"
   ]
  },
  {
   "cell_type": "code",
   "execution_count": 43,
   "id": "fc7449c7-2516-4d25-9456-3f4e67923728",
   "metadata": {},
   "outputs": [],
   "source": [
    "df_fillna = df_laptops.fillna(mode[0])"
   ]
  },
  {
   "cell_type": "code",
   "execution_count": 46,
   "id": "b490210c-2f8d-4ed3-82af-8e134f9c24b0",
   "metadata": {},
   "outputs": [
    {
     "data": {
      "text/plain": [
       "Laptop          0\n",
       "Status          0\n",
       "Brand           0\n",
       "Model           0\n",
       "CPU             0\n",
       "RAM             0\n",
       "Storage         0\n",
       "Storage type    0\n",
       "GPU             0\n",
       "Screen          0\n",
       "Touch           0\n",
       "Final Price     0\n",
       "dtype: int64"
      ]
     },
     "execution_count": 46,
     "metadata": {},
     "output_type": "execute_result"
    }
   ],
   "source": [
    "df_fillna.isnull().sum()"
   ]
  },
  {
   "cell_type": "code",
   "execution_count": 44,
   "id": "e910d772-0493-4772-8cbd-3b92908802d6",
   "metadata": {},
   "outputs": [
    {
     "data": {
      "text/plain": [
       "count    2160.000000\n",
       "mean       15.168912\n",
       "std         1.202357\n",
       "min        10.100000\n",
       "25%        14.000000\n",
       "50%        15.600000\n",
       "75%        15.600000\n",
       "max        18.000000\n",
       "Name: Screen, dtype: float64"
      ]
     },
     "execution_count": 44,
     "metadata": {},
     "output_type": "execute_result"
    }
   ],
   "source": [
    "df_fillna[\"Screen\"].describe()"
   ]
  },
  {
   "cell_type": "markdown",
   "id": "89ce437b-5104-4bc7-857f-627841cf90d5",
   "metadata": {},
   "source": [
    "### Question 7"
   ]
  },
  {
   "cell_type": "code",
   "execution_count": 49,
   "id": "4764276f-60bb-4a8d-933f-f1f7f93095ee",
   "metadata": {},
   "outputs": [],
   "source": [
    "df_innjoo = df_laptops[df_laptops.Brand == \"Innjoo\"]"
   ]
  },
  {
   "cell_type": "code",
   "execution_count": 51,
   "id": "56733153-04ba-480f-a492-82b6c2733d85",
   "metadata": {},
   "outputs": [
    {
     "data": {
      "text/plain": [
       "6"
      ]
     },
     "execution_count": 51,
     "metadata": {},
     "output_type": "execute_result"
    }
   ],
   "source": [
    "len(df_innjoo)"
   ]
  },
  {
   "cell_type": "code",
   "execution_count": 56,
   "id": "0c96bfa9-fa08-4c07-bd8e-d547e2cc5a7e",
   "metadata": {},
   "outputs": [],
   "source": [
    "df_sub = df_innjoo[[\"RAM\", \"Storage\", \"Screen\"]]"
   ]
  },
  {
   "cell_type": "code",
   "execution_count": 53,
   "id": "dd542f14-cf3c-4d15-accc-b61b4b569a32",
   "metadata": {},
   "outputs": [],
   "source": [
    "import numpy as np"
   ]
  },
  {
   "cell_type": "code",
   "execution_count": 59,
   "id": "d9a33157-04ec-4fc9-86fb-6a44a08a225c",
   "metadata": {},
   "outputs": [],
   "source": [
    "X = np.array(df_sub)"
   ]
  },
  {
   "cell_type": "code",
   "execution_count": 60,
   "id": "025dddfd-affd-4fd8-9e6f-56fd41ccdfc2",
   "metadata": {},
   "outputs": [
    {
     "data": {
      "text/plain": [
       "array([[  8. , 256. ,  15.6],\n",
       "       [  8. , 512. ,  15.6],\n",
       "       [  4. ,  64. ,  14.1],\n",
       "       [  6. ,  64. ,  14.1],\n",
       "       [  6. , 128. ,  14.1],\n",
       "       [  6. , 128. ,  14.1]])"
      ]
     },
     "execution_count": 60,
     "metadata": {},
     "output_type": "execute_result"
    }
   ],
   "source": [
    "X"
   ]
  },
  {
   "cell_type": "code",
   "execution_count": 65,
   "id": "a3ca9fc2-1bdf-46ee-8082-e3ab1cc639d3",
   "metadata": {},
   "outputs": [],
   "source": [
    "X2 = X.T.dot(X)"
   ]
  },
  {
   "cell_type": "code",
   "execution_count": 62,
   "id": "310c8599-9e44-40dd-bbcb-6b39172d7e62",
   "metadata": {},
   "outputs": [],
   "source": [
    "y = np.array([1100, 1300, 800, 900, 1000, 1100])"
   ]
  },
  {
   "cell_type": "code",
   "execution_count": 63,
   "id": "f0c994ba-a806-4381-8fee-ef7449ee724a",
   "metadata": {},
   "outputs": [
    {
     "data": {
      "text/plain": [
       "array([1100, 1300,  800,  900, 1000, 1100])"
      ]
     },
     "execution_count": 63,
     "metadata": {},
     "output_type": "execute_result"
    }
   ],
   "source": [
    "y"
   ]
  },
  {
   "cell_type": "code",
   "execution_count": 66,
   "id": "e43123d2-a95e-404c-97d7-4c90d391a1f1",
   "metadata": {},
   "outputs": [],
   "source": [
    "res = np.linalg.inv(X2).dot(X.T).dot(y)"
   ]
  },
  {
   "cell_type": "code",
   "execution_count": 67,
   "id": "984ad7a3-5f73-4734-b404-30f22bf25a4d",
   "metadata": {},
   "outputs": [
    {
     "data": {
      "text/plain": [
       "array([45.58076606,  0.42783519, 45.29127938])"
      ]
     },
     "execution_count": 67,
     "metadata": {},
     "output_type": "execute_result"
    }
   ],
   "source": [
    "res"
   ]
  },
  {
   "cell_type": "code",
   "execution_count": 68,
   "id": "fe4640f3-64d5-40af-bd61-bea84ee8916f",
   "metadata": {},
   "outputs": [
    {
     "data": {
      "text/plain": [
       "91.29988062995815"
      ]
     },
     "execution_count": 68,
     "metadata": {},
     "output_type": "execute_result"
    }
   ],
   "source": [
    "res.sum()"
   ]
  },
  {
   "cell_type": "code",
   "execution_count": null,
   "id": "e0b88bf1-1137-4d7c-aec2-44275c4cd2a9",
   "metadata": {},
   "outputs": [],
   "source": []
  }
 ],
 "metadata": {
  "kernelspec": {
   "display_name": "Python 3 (ipykernel)",
   "language": "python",
   "name": "python3"
  },
  "language_info": {
   "codemirror_mode": {
    "name": "ipython",
    "version": 3
   },
   "file_extension": ".py",
   "mimetype": "text/x-python",
   "name": "python",
   "nbconvert_exporter": "python",
   "pygments_lexer": "ipython3",
   "version": "3.11.9"
  }
 },
 "nbformat": 4,
 "nbformat_minor": 5
}
