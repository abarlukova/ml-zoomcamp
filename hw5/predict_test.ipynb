{
 "cells": [
  {
   "cell_type": "code",
   "execution_count": 1,
   "id": "8bccfff0-c448-4a70-a0a9-06a20d4f0e91",
   "metadata": {},
   "outputs": [],
   "source": [
    "import requests"
   ]
  },
  {
   "cell_type": "code",
   "execution_count": 2,
   "id": "b873561b-8c8f-41de-baa5-0d02728a2ac0",
   "metadata": {},
   "outputs": [],
   "source": [
    "url = 'http://localhost:9696/predict'"
   ]
  },
  {
   "cell_type": "code",
   "execution_count": 3,
   "id": "045433e4-3d8d-4f26-8be5-f508e4b021ec",
   "metadata": {},
   "outputs": [],
   "source": [
    "client = {\"job\": \"student\", \"duration\": 280, \"poutcome\": \"failure\"}"
   ]
  },
  {
   "cell_type": "code",
   "execution_count": 6,
   "id": "fd43cb85-f2b8-45ea-bd71-eb87279e62b4",
   "metadata": {},
   "outputs": [
    {
     "data": {
      "text/plain": [
       "{'subscription_proba': 0.33480703475511053}"
      ]
     },
     "execution_count": 6,
     "metadata": {},
     "output_type": "execute_result"
    }
   ],
   "source": [
    "requests.post(url, json = client).json()"
   ]
  },
  {
   "cell_type": "code",
   "execution_count": null,
   "id": "a9189b69-f046-46f3-9567-9b8f6e89defc",
   "metadata": {},
   "outputs": [],
   "source": []
  }
 ],
 "metadata": {
  "kernelspec": {
   "display_name": "Python 3 (ipykernel)",
   "language": "python",
   "name": "python3"
  },
  "language_info": {
   "codemirror_mode": {
    "name": "ipython",
    "version": 3
   },
   "file_extension": ".py",
   "mimetype": "text/x-python",
   "name": "python",
   "nbconvert_exporter": "python",
   "pygments_lexer": "ipython3",
   "version": "3.11.4"
  }
 },
 "nbformat": 4,
 "nbformat_minor": 5
}
