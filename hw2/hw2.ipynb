{
 "cells": [
  {
   "cell_type": "code",
   "execution_count": 2,
   "id": "151d7605-66b0-43e1-8b64-b288fc354942",
   "metadata": {},
   "outputs": [],
   "source": [
    "import wget"
   ]
  },
  {
   "cell_type": "code",
   "execution_count": 3,
   "id": "b2a847e0-1451-434c-aae3-0f4b999b8d05",
   "metadata": {},
   "outputs": [
    {
     "name": "stdout",
     "output_type": "stream",
     "text": [
      "100% [............................................................................] 298573 / 298573"
     ]
    },
    {
     "data": {
      "text/plain": [
       "'laptops.csv'"
      ]
     },
     "execution_count": 3,
     "metadata": {},
     "output_type": "execute_result"
    }
   ],
   "source": [
    "url = 'https://raw.githubusercontent.com/alexeygrigorev/datasets/master/laptops.csv'\n",
    "wget.download(url, 'laptops.csv')"
   ]
  },
  {
   "cell_type": "code",
   "execution_count": 51,
   "id": "a24a184c-1a12-4e55-beec-48a3a32acb15",
   "metadata": {},
   "outputs": [],
   "source": [
    "import pandas as pd\n",
    "import numpy as np"
   ]
  },
  {
   "cell_type": "code",
   "execution_count": 53,
   "id": "8a1409be-6e19-49b8-9cd1-ae23b48ba95c",
   "metadata": {},
   "outputs": [],
   "source": [
    "df = pd.read_csv(\"laptops.csv\")"
   ]
  },
  {
   "cell_type": "code",
   "execution_count": 54,
   "id": "7f7d72ba-e6f9-44c2-8176-9eb9943d3e84",
   "metadata": {},
   "outputs": [],
   "source": [
    "df.columns = df.columns.str.lower().str.replace(' ', '_')"
   ]
  },
  {
   "cell_type": "code",
   "execution_count": 4,
   "id": "ecbf1696-277d-47cc-8af8-092a1cf98789",
   "metadata": {},
   "outputs": [
    {
     "data": {
      "text/plain": [
       "laptop           object\n",
       "status           object\n",
       "brand            object\n",
       "model            object\n",
       "cpu              object\n",
       "ram               int64\n",
       "storage           int64\n",
       "storage_type     object\n",
       "gpu              object\n",
       "screen          float64\n",
       "touch            object\n",
       "final_price     float64\n",
       "dtype: object"
      ]
     },
     "execution_count": 4,
     "metadata": {},
     "output_type": "execute_result"
    }
   ],
   "source": [
    "df.dtypes"
   ]
  },
  {
   "cell_type": "code",
   "execution_count": 5,
   "id": "32846720-c133-41ba-bb61-dc941ad714f4",
   "metadata": {},
   "outputs": [
    {
     "data": {
      "text/plain": [
       "['laptop', 'status', 'brand', 'model', 'cpu', 'storage_type', 'gpu', 'touch']"
      ]
     },
     "execution_count": 5,
     "metadata": {},
     "output_type": "execute_result"
    }
   ],
   "source": [
    "list(df.dtypes[df.dtypes == 'object'].index)"
   ]
  },
  {
   "cell_type": "code",
   "execution_count": 55,
   "id": "66d0a0ef-4258-4139-97b9-e0160f4b0eb3",
   "metadata": {},
   "outputs": [],
   "source": [
    "df = df[[\"ram\", \"storage\", \"screen\", \"final_price\"]]"
   ]
  },
  {
   "cell_type": "code",
   "execution_count": 7,
   "id": "da9f2c2b-2d29-4f19-9c8e-a056e5c05961",
   "metadata": {},
   "outputs": [],
   "source": [
    "import matplotlib.pyplot as plt\n",
    "import seaborn as sns\n",
    "\n",
    "%matplotlib inline"
   ]
  },
  {
   "cell_type": "markdown",
   "id": "eb6332ff-61ea-40e5-891f-0f5cf357478b",
   "metadata": {},
   "source": [
    "### Question 1"
   ]
  },
  {
   "cell_type": "code",
   "execution_count": 23,
   "id": "c50baefa-8787-4744-96c3-7c88c69e0562",
   "metadata": {},
   "outputs": [
    {
     "data": {
      "text/plain": [
       "ram            0\n",
       "storage        0\n",
       "screen         4\n",
       "final_price    0\n",
       "dtype: int64"
      ]
     },
     "execution_count": 23,
     "metadata": {},
     "output_type": "execute_result"
    }
   ],
   "source": [
    "df.isnull().sum()"
   ]
  },
  {
   "cell_type": "markdown",
   "id": "2c154dc3-e2cf-4f1e-98e5-372b7e6d3811",
   "metadata": {},
   "source": [
    "### Question 2"
   ]
  },
  {
   "cell_type": "code",
   "execution_count": 9,
   "id": "368d45a5-cf24-42a3-9f17-8728b00a4f3f",
   "metadata": {},
   "outputs": [
    {
     "data": {
      "text/plain": [
       "count    2160.000000\n",
       "mean       15.413889\n",
       "std         9.867815\n",
       "min         4.000000\n",
       "25%         8.000000\n",
       "50%        16.000000\n",
       "75%        16.000000\n",
       "max       128.000000\n",
       "Name: ram, dtype: float64"
      ]
     },
     "execution_count": 9,
     "metadata": {},
     "output_type": "execute_result"
    }
   ],
   "source": [
    "df.ram.describe()"
   ]
  },
  {
   "cell_type": "markdown",
   "id": "41b3a86f-e447-4f61-94bc-70e3f262fbe5",
   "metadata": {},
   "source": [
    "### Question 3"
   ]
  },
  {
   "cell_type": "markdown",
   "id": "dde4e952-bc29-40b7-aa96-de3bca87ced2",
   "metadata": {},
   "source": [
    "Prepare and split the dataset"
   ]
  },
  {
   "cell_type": "code",
   "execution_count": 11,
   "id": "f82dce80-98af-48e3-a7af-be61d531925a",
   "metadata": {},
   "outputs": [],
   "source": [
    "n = len(df)"
   ]
  },
  {
   "cell_type": "code",
   "execution_count": 12,
   "id": "183dd4c6-2280-4257-8e00-f055bd83a068",
   "metadata": {},
   "outputs": [],
   "source": [
    "n_val = int(n * 0.2)\n",
    "n_test = int(n * 0.2)\n",
    "\n",
    "n_train = n - n_val - n_test"
   ]
  },
  {
   "cell_type": "code",
   "execution_count": 13,
   "id": "e757872f-a78e-4dae-b78a-da70601cfbeb",
   "metadata": {},
   "outputs": [
    {
     "data": {
      "text/plain": [
       "(2160, 2160)"
      ]
     },
     "execution_count": 13,
     "metadata": {},
     "output_type": "execute_result"
    }
   ],
   "source": [
    "n, n_val + n_test + n_train"
   ]
  },
  {
   "cell_type": "code",
   "execution_count": 18,
   "id": "412d2676-b3e2-4f1c-88f1-20db03033386",
   "metadata": {},
   "outputs": [],
   "source": [
    "idx = np.arange(n)\n",
    "np.random.seed(42)\n",
    "np.random.shuffle(idx)"
   ]
  },
  {
   "cell_type": "code",
   "execution_count": 19,
   "id": "1d4e248b-91ff-456d-8098-75c7c6310bb2",
   "metadata": {},
   "outputs": [
    {
     "data": {
      "text/plain": [
       "array([2079,  668, 2073, ..., 1130, 1294,  860])"
      ]
     },
     "execution_count": 19,
     "metadata": {},
     "output_type": "execute_result"
    }
   ],
   "source": [
    "idx"
   ]
  },
  {
   "cell_type": "code",
   "execution_count": 56,
   "id": "208c257a-3dc7-4b70-8d35-4d73353b2011",
   "metadata": {},
   "outputs": [],
   "source": [
    "df_train = df.iloc[idx[:n_train]]\n",
    "df_val = df.iloc[idx[n_train:n_train+n_val]]\n",
    "df_test = df.iloc[idx[n_train+n_val:]]"
   ]
  },
  {
   "cell_type": "code",
   "execution_count": 57,
   "id": "03ea267d-6484-4f39-a598-a4683eae4291",
   "metadata": {},
   "outputs": [],
   "source": [
    "df_train = df_train.reset_index(drop=True)\n",
    "df_val = df_val.reset_index(drop=True)\n",
    "df_test = df_test.reset_index(drop=True)"
   ]
  },
  {
   "cell_type": "code",
   "execution_count": 58,
   "id": "a125c52a-b4c0-48f1-a0ab-bb037bcfa866",
   "metadata": {},
   "outputs": [],
   "source": [
    "y_train = df_train['final_price'].values\n",
    "y_val = df_val['final_price'].values\n",
    "y_test = df_test['final_price'].values"
   ]
  },
  {
   "cell_type": "code",
   "execution_count": 59,
   "id": "933ce492-1263-4acb-8447-01588ad58657",
   "metadata": {},
   "outputs": [],
   "source": [
    "del df_train['final_price']\n",
    "del df_val['final_price']\n",
    "del df_test['final_price']"
   ]
  },
  {
   "cell_type": "markdown",
   "id": "d299b80c-7d67-4329-99ca-83cfbc54db28",
   "metadata": {},
   "source": [
    "#### Training"
   ]
  },
  {
   "cell_type": "code",
   "execution_count": 79,
   "id": "478e844e-d7f8-4b8c-9f79-75b6197a1ecd",
   "metadata": {},
   "outputs": [],
   "source": [
    "def train_linear_regression(X, y):\n",
    "    ones = np.ones(X.shape[0])\n",
    "    X = np.column_stack([ones, X])\n",
    "\n",
    "    XTX = X.T.dot(X)\n",
    "    XTX_inv = np.linalg.inv(XTX)\n",
    "    w_full = XTX_inv.dot(X.T).dot(y)\n",
    "    \n",
    "    return w_full[0], w_full[1:]"
   ]
  },
  {
   "cell_type": "code",
   "execution_count": 95,
   "id": "f0f8b250-f914-44d5-a8ef-06367ee13d08",
   "metadata": {},
   "outputs": [],
   "source": [
    "X_train = df_train.fillna(0).values"
   ]
  },
  {
   "cell_type": "code",
   "execution_count": 81,
   "id": "1e47dffb-7f81-44c2-abea-70ad9b88edf1",
   "metadata": {},
   "outputs": [],
   "source": [
    "w0, w = train_linear_regression(X_train, y_train)"
   ]
  },
  {
   "cell_type": "markdown",
   "id": "79b5e41e-5ba1-401b-9409-56662f4d3289",
   "metadata": {},
   "source": [
    "#### Fill missing values with 0"
   ]
  },
  {
   "cell_type": "code",
   "execution_count": 82,
   "id": "33fc61a7-c2b4-4e9b-b2cb-e3845e1c7a9c",
   "metadata": {},
   "outputs": [
    {
     "data": {
      "text/plain": [
       "ram        0\n",
       "storage    0\n",
       "screen     1\n",
       "dtype: int64"
      ]
     },
     "execution_count": 82,
     "metadata": {},
     "output_type": "execute_result"
    }
   ],
   "source": [
    "df_val.isnull().sum()"
   ]
  },
  {
   "cell_type": "code",
   "execution_count": 96,
   "id": "186f5b6e-c93a-4a01-be28-83bea3bbee67",
   "metadata": {},
   "outputs": [],
   "source": [
    "X_val = df_val.fillna(0).values"
   ]
  },
  {
   "cell_type": "code",
   "execution_count": 84,
   "id": "7bcc3606-a9f0-4282-ae6a-4d6dd1dd8f17",
   "metadata": {},
   "outputs": [],
   "source": [
    "y_pred = w0 + X_val.dot(w)"
   ]
  },
  {
   "cell_type": "code",
   "execution_count": 85,
   "id": "2e45d2f6-c597-494f-9bed-caecb5108a5c",
   "metadata": {},
   "outputs": [
    {
     "data": {
      "image/png": "[encoded data removed]",
      "text/plain": [
       "<Figure size 640x480 with 1 Axes>"
      ]
     },
     "metadata": {},
     "output_type": "display_data"
    }
   ],
   "source": [
    "sns.histplot(y_pred, alpha = 0.5, color = 'red')\n",
    "sns.histplot(y_val, alpha = 0.5, color = 'blue')\n",
    "\n",
    "plt.show()"
   ]
  },
  {
   "cell_type": "code",
   "execution_count": 37,
   "id": "b32e696b-5dcf-40c7-8c0a-8be5e5dabdfa",
   "metadata": {},
   "outputs": [],
   "source": [
    "def rmse(y, y_pred):\n",
    "    se = (y - y_pred) ** 2\n",
    "    mse = se.mean()\n",
    "    return np.sqrt(mse)"
   ]
  },
  {
   "cell_type": "code",
   "execution_count": 86,
   "id": "fdf90099-6109-4ba9-a856-05b9b8c1c28c",
   "metadata": {},
   "outputs": [
    {
     "data": {
      "text/plain": [
       "597.36"
      ]
     },
     "execution_count": 86,
     "metadata": {},
     "output_type": "execute_result"
    }
   ],
   "source": [
    "round(rmse(y_val, y_pred),2)"
   ]
  },
  {
   "cell_type": "markdown",
   "id": "e1dede96-19aa-429e-8c2a-c96494082403",
   "metadata": {},
   "source": [
    "#### Fill missing values with mean"
   ]
  },
  {
   "cell_type": "code",
   "execution_count": 65,
   "id": "2703d925-b143-408a-8669-1262988c735f",
   "metadata": {},
   "outputs": [],
   "source": [
    "mean_screen = df_train['screen'].mean()"
   ]
  },
  {
   "cell_type": "code",
   "execution_count": 71,
   "id": "0444e8ff-b3e6-40be-8264-5bb88a1258bb",
   "metadata": {},
   "outputs": [],
   "source": [
    "X_train_2 = df_train.fillna({'screen': mean_screen}).values"
   ]
  },
  {
   "cell_type": "code",
   "execution_count": 72,
   "id": "aea2e702-b139-4c67-ab65-4ba527b7af8b",
   "metadata": {},
   "outputs": [
    {
     "data": {
      "text/plain": [
       "array([[  32. , 1000. ,   15.6],\n",
       "       [   4. ,   64. ,   14.1],\n",
       "       [  32. , 1000. ,   14. ],\n",
       "       ...,\n",
       "       [  16. ,  512. ,   15.6],\n",
       "       [  16. ,  512. ,   14. ],\n",
       "       [  16. ,  512. ,   14. ]])"
      ]
     },
     "execution_count": 72,
     "metadata": {},
     "output_type": "execute_result"
    }
   ],
   "source": [
    "X_train_2"
   ]
  },
  {
   "cell_type": "code",
   "execution_count": 73,
   "id": "d1382153-de1b-4a86-ba6e-829996b63a7b",
   "metadata": {},
   "outputs": [],
   "source": [
    "w0_2, w_2 = train_linear_regression(X_train_2, y_train)"
   ]
  },
  {
   "cell_type": "code",
   "execution_count": 74,
   "id": "703c8b32-7142-40ca-9486-d7fc0aa5e4d6",
   "metadata": {},
   "outputs": [
    {
     "data": {
      "text/plain": [
       "array([ 43.90774584,   0.87135236, -45.18273312])"
      ]
     },
     "execution_count": 74,
     "metadata": {},
     "output_type": "execute_result"
    }
   ],
   "source": [
    "w_2"
   ]
  },
  {
   "cell_type": "code",
   "execution_count": 87,
   "id": "5c04f845-0f61-41e6-89a6-f71b88186ead",
   "metadata": {},
   "outputs": [],
   "source": [
    "y_pred_2 = w0_2 + X_val.dot(w_2)"
   ]
  },
  {
   "cell_type": "code",
   "execution_count": 88,
   "id": "8d6a72ec-2d5a-4c6e-93d4-ca26de7deab5",
   "metadata": {},
   "outputs": [
    {
     "data": {
      "text/plain": [
       "597.7391912416756"
      ]
     },
     "execution_count": 88,
     "metadata": {},
     "output_type": "execute_result"
    }
   ],
   "source": [
    "rmse(y_val, y_pred_2)"
   ]
  },
  {
   "cell_type": "code",
   "execution_count": 89,
   "id": "93bec8c3-8675-4668-9423-05b87b7a9909",
   "metadata": {},
   "outputs": [
    {
     "data": {
      "text/plain": [
       "597.74"
      ]
     },
     "execution_count": 89,
     "metadata": {},
     "output_type": "execute_result"
    }
   ],
   "source": [
    "round(rmse(y_val, y_pred_2), 2)"
   ]
  },
  {
   "cell_type": "markdown",
   "id": "d4f51b19-5e3c-4b93-a14a-745bfcc53dd6",
   "metadata": {},
   "source": [
    "### Question 4"
   ]
  },
  {
   "cell_type": "code",
   "execution_count": 92,
   "id": "f341e696-cf2b-4e36-9159-9bc63102401a",
   "metadata": {},
   "outputs": [],
   "source": [
    "def train_linear_regression_reg(X, y, r):\n",
    "    ones = np.ones(X.shape[0])\n",
    "    X = np.column_stack([ones, X])\n",
    "\n",
    "    XTX = X.T.dot(X)\n",
    "    XTX = XTX + r * np.eye(XTX.shape[0])\n",
    "\n",
    "    XTX_inv = np.linalg.inv(XTX)\n",
    "    w_full = XTX_inv.dot(X.T).dot(y)\n",
    "    \n",
    "    return w_full[0], w_full[1:]"
   ]
  },
  {
   "cell_type": "code",
   "execution_count": 97,
   "id": "fe36c90a-b0a0-44a6-814d-41fa2bbf94b8",
   "metadata": {},
   "outputs": [
    {
     "name": "stdout",
     "output_type": "stream",
     "text": [
      "0 676.8954853003471 597.36\n",
      "0.01 676.2736817204672 597.36\n",
      "0.1 670.7284836313021 597.35\n",
      "1 619.9030834107807 597.21\n",
      "5 463.77716971415225 597.01\n",
      "10 352.79713367676436 597.06\n",
      "100 66.92071440180734 597.9\n"
     ]
    }
   ],
   "source": [
    "for r in [0, 0.01, 0.1, 1, 5, 10, 100]:\n",
    "    w0, w = train_linear_regression_reg(X_train, y_train, r=r)\n",
    "\n",
    "    y_pred = w0 + X_val.dot(w)\n",
    "    score = rmse(y_val, y_pred)\n",
    "    \n",
    "    print(r, w0, round(score,2))"
   ]
  },
  {
   "cell_type": "markdown",
   "id": "eb2a0531-cdec-447c-8e33-586bc5e558f3",
   "metadata": {},
   "source": [
    "### Question 5"
   ]
  },
  {
   "cell_type": "code",
   "execution_count": 98,
   "id": "153087e1-b148-4014-a5bb-37892431cd45",
   "metadata": {},
   "outputs": [],
   "source": [
    "rmse_scores = []\n",
    "\n",
    "for s in [0, 1, 2, 3, 4, 5, 6, 7, 8, 9]:\n",
    "    idx = np.arange(n)\n",
    "    np.random.seed(s)\n",
    "    np.random.shuffle(idx)\n",
    "\n",
    "    df_train = df.iloc[idx[:n_train]]\n",
    "    df_val = df.iloc[idx[n_train:n_train+n_val]]\n",
    "    df_test = df.iloc[idx[n_train+n_val:]]\n",
    "    \n",
    "    df_train = df_train.reset_index(drop=True)\n",
    "    df_val = df_val.reset_index(drop=True)\n",
    "    df_test = df_test.reset_index(drop=True)\n",
    "    \n",
    "    y_train = df_train['final_price'].values\n",
    "    y_val = df_val['final_price'].values\n",
    "    y_test = df_test['final_price'].values\n",
    "\n",
    "    del df_train['final_price']\n",
    "    del df_val['final_price']\n",
    "    del df_test['final_price']\n",
    "\n",
    "    X_train = df_train.fillna(0).values\n",
    "    X_val = df_val.fillna(0).values\n",
    "\n",
    "    w0, w = train_linear_regression(X_train, y_train)\n",
    "\n",
    "    y_pred = w0 + X_val.dot(w)\n",
    "\n",
    "    rmse_scores.append(rmse(y_val, y_pred))\n",
    "\n",
    "    \n",
    "    "
   ]
  },
  {
   "cell_type": "code",
   "execution_count": 99,
   "id": "115c34cc-0ac4-4ebd-b059-44f57d556504",
   "metadata": {},
   "outputs": [
    {
     "data": {
      "text/plain": [
       "[565.4520868770995,\n",
       " 636.7985423056726,\n",
       " 588.955869790796,\n",
       " 597.8148920012515,\n",
       " 571.962791511103,\n",
       " 573.238325661895,\n",
       " 647.3438328407194,\n",
       " 550.4398184485962,\n",
       " 587.3335036169963,\n",
       " 576.101792943313]"
      ]
     },
     "execution_count": 99,
     "metadata": {},
     "output_type": "execute_result"
    }
   ],
   "source": [
    "rmse_scores"
   ]
  },
  {
   "cell_type": "code",
   "execution_count": 101,
   "id": "877851a3-47a9-4fdd-89a3-3e7cbca63f28",
   "metadata": {},
   "outputs": [
    {
     "data": {
      "text/plain": [
       "29.176"
      ]
     },
     "execution_count": 101,
     "metadata": {},
     "output_type": "execute_result"
    }
   ],
   "source": [
    "round(np.std(rmse_scores),3)"
   ]
  },
  {
   "cell_type": "markdown",
   "id": "3398170f-94ff-4b31-be6e-a9dc3326fedf",
   "metadata": {},
   "source": [
    "### Question 6"
   ]
  },
  {
   "cell_type": "code",
   "execution_count": 102,
   "id": "7da0f9d6-72c5-4354-b029-cfcb625e57fb",
   "metadata": {},
   "outputs": [],
   "source": [
    "idx = np.arange(n)\n",
    "np.random.seed(9)\n",
    "np.random.shuffle(idx)\n",
    "\n",
    "df_train = df.iloc[idx[:n_train]]\n",
    "df_val = df.iloc[idx[n_train:n_train+n_val]]\n",
    "df_test = df.iloc[idx[n_train+n_val:]]\n",
    "\n",
    "df_train = df_train.reset_index(drop=True)\n",
    "df_val = df_val.reset_index(drop=True)\n",
    "df_test = df_test.reset_index(drop=True)\n",
    "\n",
    "y_train = df_train['final_price'].values\n",
    "y_val = df_val['final_price'].values\n",
    "y_test = df_test['final_price'].values\n",
    "\n",
    "del df_train['final_price']\n",
    "del df_val['final_price']\n",
    "del df_test['final_price']"
   ]
  },
  {
   "cell_type": "code",
   "execution_count": 103,
   "id": "9e31c638-399e-40b1-9bcf-e3a8c8d39f3c",
   "metadata": {},
   "outputs": [],
   "source": [
    "df_full_train = pd.concat([df_train, df_val])\n",
    "df_full_train = df_full_train.reset_index(drop=True)"
   ]
  },
  {
   "cell_type": "code",
   "execution_count": 109,
   "id": "7447f572-95e0-48aa-a856-8291190103aa",
   "metadata": {},
   "outputs": [],
   "source": [
    "X_full_train = df_full_train.fillna(0)\n",
    "X_test =  df_test.fillna(0)"
   ]
  },
  {
   "cell_type": "code",
   "execution_count": 104,
   "id": "c5501813-403d-4046-bc43-00e61c19a540",
   "metadata": {},
   "outputs": [],
   "source": [
    "y_full_train = np.concatenate([y_train, y_val])"
   ]
  },
  {
   "cell_type": "code",
   "execution_count": 107,
   "id": "cdc8be1a-8ff7-44f3-afde-492d0a6ab19a",
   "metadata": {},
   "outputs": [],
   "source": [
    "w0, w = train_linear_regression_reg(X_full_train, y_full_train, 0.001)"
   ]
  },
  {
   "cell_type": "code",
   "execution_count": 110,
   "id": "a63bcdbc-92ab-48e5-8bd8-af546d399a67",
   "metadata": {},
   "outputs": [],
   "source": [
    "y_pred = w0 + X_test.dot(w)"
   ]
  },
  {
   "cell_type": "code",
   "execution_count": 111,
   "id": "080da80e-e3b8-46a9-95c4-5ea47b884cb3",
   "metadata": {},
   "outputs": [
    {
     "data": {
      "text/plain": [
       "608.6099822049559"
      ]
     },
     "execution_count": 111,
     "metadata": {},
     "output_type": "execute_result"
    }
   ],
   "source": [
    "rmse(y_test, y_pred)"
   ]
  },
  {
   "cell_type": "code",
   "execution_count": null,
   "id": "06f8828f-ae38-4a44-8700-2b041c4260f3",
   "metadata": {},
   "outputs": [],
   "source": []
  }
 ],
 "metadata": {
  "kernelspec": {
   "display_name": "Python 3 (ipykernel)",
   "language": "python",
   "name": "python3"
  },
  "language_info": {
   "codemirror_mode": {
    "name": "ipython",
    "version": 3
   },
   "file_extension": ".py",
   "mimetype": "text/x-python",
   "name": "python",
   "nbconvert_exporter": "python",
   "pygments_lexer": "ipython3",
   "version": "3.11.9"
  }
 },
 "nbformat": 4,
 "nbformat_minor": 5
}
